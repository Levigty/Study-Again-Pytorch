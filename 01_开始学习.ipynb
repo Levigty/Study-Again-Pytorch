{
 "cells": [
  {
   "cell_type": "code",
   "execution_count": 1,
   "metadata": {},
   "outputs": [],
   "source": [
    "import torch\n",
    "import torchvision"
   ]
  },
  {
   "cell_type": "code",
   "execution_count": 2,
   "metadata": {},
   "outputs": [
    {
     "name": "stdout",
     "output_type": "stream",
     "text": [
      "tensor([[0.5034, 0.2067, 0.8391],\n",
      "        [0.2975, 0.5259, 0.0759],\n",
      "        [0.3951, 0.6056, 0.2864],\n",
      "        [0.9380, 0.6595, 0.2534],\n",
      "        [0.4203, 0.5969, 0.6932]])\n",
      "tensor([[ 1.2247,  0.0565, -1.7756],\n",
      "        [-0.7128, -0.0162,  1.6106],\n",
      "        [-1.2693, -1.4401,  1.5197],\n",
      "        [-0.8341,  1.5306, -0.2659],\n",
      "        [-0.2251,  0.8905, -0.0572]])\n",
      "torch.Size([5, 3])\n"
     ]
    }
   ],
   "source": [
    "# 构造一个随机初始化矩阵\n",
    "x = torch.rand(5, 3)\n",
    "print(x)\n",
    "# 基于已经存在的tensor创建tensor\n",
    "x_new = torch.randn_like(x, dtype=torch.float)\n",
    "print(x_new)\n",
    "print(x.size())"
   ]
  },
  {
   "cell_type": "code",
   "execution_count": 3,
   "metadata": {},
   "outputs": [
    {
     "name": "stdout",
     "output_type": "stream",
     "text": [
      "tensor([[1.5034, 1.2067, 1.8391],\n",
      "        [1.2975, 1.5259, 1.0759],\n",
      "        [1.3951, 1.6056, 1.2864],\n",
      "        [1.9380, 1.6595, 1.2534],\n",
      "        [1.4203, 1.5969, 1.6932]])\n"
     ]
    }
   ],
   "source": [
    "# in-place加法\n",
    "y = torch.ones(5, 3)\n",
    "y.add_(x)\n",
    "print(y)"
   ]
  },
  {
   "cell_type": "code",
   "execution_count": 4,
   "metadata": {},
   "outputs": [
    {
     "name": "stdout",
     "output_type": "stream",
     "text": [
      "torch.Size([4, 4]) torch.Size([1, 16]) torch.Size([2, 8]) torch.Size([16])\n"
     ]
    }
   ],
   "source": [
    "# 改变tensor的形状\n",
    "x = torch.randn(4, 4)\n",
    "y = x.view(1, 16)\n",
    "z = x.view(-1, 8)\n",
    "w = x.view(16)\n",
    "print(x.size(), y.size(), z.size(), w.size())"
   ]
  }
 ],
 "metadata": {
  "kernelspec": {
   "display_name": "Python 3",
   "language": "python",
   "name": "python3"
  },
  "language_info": {
   "codemirror_mode": {
    "name": "ipython",
    "version": 3
   },
   "file_extension": ".py",
   "mimetype": "text/x-python",
   "name": "python",
   "nbconvert_exporter": "python",
   "pygments_lexer": "ipython3",
   "version": "3.6.6"
  }
 },
 "nbformat": 4,
 "nbformat_minor": 2
}
